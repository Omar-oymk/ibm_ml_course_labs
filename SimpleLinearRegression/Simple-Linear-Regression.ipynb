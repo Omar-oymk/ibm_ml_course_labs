{
 "cells": [
  {
   "cell_type": "code",
   "execution_count": 2,
   "id": "67550364",
   "metadata": {},
   "outputs": [],
   "source": [
    "import numpy as np\n",
    "import pandas as pd\n",
    "import matplotlib.pyplot as plt"
   ]
  },
  {
   "cell_type": "code",
   "execution_count": 3,
   "id": "f00aa01e",
   "metadata": {},
   "outputs": [
    {
     "name": "stdout",
     "output_type": "stream",
     "text": [
      "     MODELYEAR    MAKE             MODEL          VEHICLECLASS  ENGINESIZE  \\\n",
      "53        2014    AUDI     RS5 CABRIOLET            SUBCOMPACT         4.2   \n",
      "842       2014  NISSAN      FRONTIER 4WD  PICKUP TRUCK - SMALL         4.0   \n",
      "394       2014    FORD        FIESTA SFE            SUBCOMPACT         1.0   \n",
      "717       2014   MAZDA  MAZDA6 (i-ELOOP)              MID-SIZE         2.5   \n",
      "353       2014    FORD              EDGE           SUV - SMALL         3.5   \n",
      "\n",
      "     CYLINDERS TRANSMISSION FUELTYPE  FUELCONSUMPTION_CITY  \\\n",
      "53           8           A7        Z                  15.2   \n",
      "842          6           A5        X                  15.7   \n",
      "394          4           M5        X                   7.5   \n",
      "717          4          AS6        X                   8.4   \n",
      "353          6          AS6        X                  12.6   \n",
      "\n",
      "     FUELCONSUMPTION_HWY  FUELCONSUMPTION_COMB  FUELCONSUMPTION_COMB_MPG  \\\n",
      "53                  11.3                  13.4                        21   \n",
      "842                 11.2                  13.7                        21   \n",
      "394                  5.5                   6.6                        43   \n",
      "717                  5.9                   7.3                        39   \n",
      "353                  8.7                  10.8                        26   \n",
      "\n",
      "     CO2EMISSIONS  \n",
      "53            308  \n",
      "842           315  \n",
      "394           152  \n",
      "717           168  \n",
      "353           248  \n"
     ]
    }
   ],
   "source": [
    "# Load the data\n",
    "url= \"https://cf-courses-data.s3.us.cloud-object-storage.appdomain.cloud/IBMDeveloperSkillsNetwork-ML0101EN-SkillsNetwork/labs/Module%202/data/FuelConsumptionCo2.csv\"\n",
    "df = pd.read_csv(url)\n",
    "print(df.sample(5))\n"
   ]
  }
 ],
 "metadata": {
  "kernelspec": {
   "display_name": "Python 3",
   "language": "python",
   "name": "python3"
  },
  "language_info": {
   "codemirror_mode": {
    "name": "ipython",
    "version": 3
   },
   "file_extension": ".py",
   "mimetype": "text/x-python",
   "name": "python",
   "nbconvert_exporter": "python",
   "pygments_lexer": "ipython3",
   "version": "3.13.5"
  }
 },
 "nbformat": 4,
 "nbformat_minor": 5
}
